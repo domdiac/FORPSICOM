{
 "cells": [
  {
   "cell_type": "markdown",
   "metadata": {},
   "source": [
    "https://www.kaggle.com/ashydv/bank-customer-clustering-k-modes-clustering"
   ]
  },
  {
   "cell_type": "code",
   "execution_count": 34,
   "metadata": {},
   "outputs": [],
   "source": [
    "import pickle\n",
    "import pandas as pd\n",
    "gruppo_1_enc = pd.read_pickle(\"./gruppo_1_enc.pkl\")\n",
    "gruppo_2_enc = pd.read_pickle(\"./gruppo_2_enc.pkl\")\n",
    "gruppo_1 = pd.read_pickle(\"./gruppo_1.pkl\")\n",
    "gruppo_2 = pd.read_pickle(\"./gruppo_2.pkl\")"
   ]
  },
  {
   "cell_type": "code",
   "execution_count": 35,
   "metadata": {},
   "outputs": [],
   "source": [
    "from kmodes.kprototypes import KPrototypes"
   ]
  },
  {
   "cell_type": "code",
   "execution_count": 36,
   "metadata": {},
   "outputs": [],
   "source": [
    "import matplotlib.pyplot as plt\n",
    "from matplotlib import style\n",
    "style.use(\"ggplot\")\n",
    "colors = ['b', 'orange', 'g', 'r', 'c', 'm', 'y', 'k', 'Brown', 'ForestGreen']\n",
    "%matplotlib inline"
   ]
  },
  {
   "cell_type": "code",
   "execution_count": 37,
   "metadata": {},
   "outputs": [
    {
     "name": "stdout",
     "output_type": "stream",
     "text": [
      "Index(['D_genere', 'D_eta', 'D_Cdl', 'D_Status', 'R_AreeDisciplinari',\n",
      "       'D_Tipologia_Bisogni', 'D_Tipologia_Attivita',\n",
      "       'D_PopolazioneStudenti_1'],\n",
      "      dtype='object')\n"
     ]
    }
   ],
   "source": [
    "gruppo_1_red = gruppo_1.drop(['D_PopolazioneStudenti_2', 'D_PopolazioneStudenti_3'], axis=1)\n",
    "print(gruppo_1_red.columns)"
   ]
  },
  {
   "cell_type": "code",
   "execution_count": 38,
   "metadata": {},
   "outputs": [],
   "source": [
    "kproto = KPrototypes(n_clusters=5, init='Huang', verbose=2)"
   ]
  },
  {
   "cell_type": "code",
   "execution_count": 39,
   "metadata": {},
   "outputs": [
    {
     "name": "stdout",
     "output_type": "stream",
     "text": [
      "Init: initializing centroids\n",
      "Init: initializing clusters\n",
      "Starting iterations...\n",
      "Run: 1, iteration: 1/100, moves: 507, ncost: 17042.094832648534\n",
      "Run: 1, iteration: 2/100, moves: 212, ncost: 16278.041277551696\n",
      "Run: 1, iteration: 3/100, moves: 245, ncost: 14714.410043338336\n",
      "Run: 1, iteration: 4/100, moves: 122, ncost: 14317.674455908997\n",
      "Run: 1, iteration: 5/100, moves: 68, ncost: 14289.93310889393\n",
      "Run: 1, iteration: 6/100, moves: 0, ncost: 14289.93310889393\n",
      "Init: initializing centroids\n",
      "Init: initializing clusters\n",
      "Starting iterations...\n",
      "Run: 2, iteration: 1/100, moves: 338, ncost: 15756.941680967691\n",
      "Run: 2, iteration: 2/100, moves: 178, ncost: 14949.859311814642\n",
      "Run: 2, iteration: 3/100, moves: 101, ncost: 14649.784271515895\n",
      "Run: 2, iteration: 4/100, moves: 60, ncost: 14424.997880020039\n",
      "Run: 2, iteration: 5/100, moves: 53, ncost: 14380.287404910061\n",
      "Run: 2, iteration: 6/100, moves: 82, ncost: 14158.159379527835\n",
      "Run: 2, iteration: 7/100, moves: 27, ncost: 14136.59712701826\n",
      "Run: 2, iteration: 8/100, moves: 0, ncost: 14136.59712701826\n",
      "Init: initializing centroids\n",
      "Init: initializing clusters\n",
      "Init: initializing centroids\n",
      "Init: initializing clusters\n",
      "Init: initializing centroids\n",
      "Init: initializing clusters\n",
      "Init: initializing centroids\n",
      "Init: initializing clusters\n",
      "Starting iterations...\n",
      "Run: 3, iteration: 1/100, moves: 545, ncost: 16748.561684174565\n",
      "Run: 3, iteration: 2/100, moves: 264, ncost: 15838.824158253488\n",
      "Run: 3, iteration: 3/100, moves: 152, ncost: 15342.419752283005\n",
      "Run: 3, iteration: 4/100, moves: 95, ncost: 15024.668862141945\n",
      "Run: 3, iteration: 5/100, moves: 86, ncost: 14703.787949681924\n",
      "Run: 3, iteration: 6/100, moves: 110, ncost: 14377.797236451535\n",
      "Run: 3, iteration: 7/100, moves: 116, ncost: 14104.997565748969\n",
      "Run: 3, iteration: 8/100, moves: 40, ncost: 14100.147541273676\n",
      "Run: 3, iteration: 9/100, moves: 0, ncost: 14100.147541273676\n",
      "Init: initializing centroids\n",
      "Init: initializing clusters\n",
      "Init: initializing centroids\n",
      "Init: initializing clusters\n",
      "Init: initializing centroids\n",
      "Init: initializing clusters\n",
      "Starting iterations...\n",
      "Run: 4, iteration: 1/100, moves: 421, ncost: 15936.62816036145\n",
      "Run: 4, iteration: 2/100, moves: 170, ncost: 15496.190277967795\n",
      "Run: 4, iteration: 3/100, moves: 136, ncost: 15169.069667145292\n",
      "Run: 4, iteration: 4/100, moves: 93, ncost: 15004.931659337788\n",
      "Run: 4, iteration: 5/100, moves: 38, ncost: 14948.126929219881\n",
      "Run: 4, iteration: 6/100, moves: 109, ncost: 14365.354492719536\n",
      "Run: 4, iteration: 7/100, moves: 108, ncost: 14283.473337886508\n",
      "Run: 4, iteration: 8/100, moves: 37, ncost: 14271.678629700238\n",
      "Run: 4, iteration: 9/100, moves: 0, ncost: 14271.678629700238\n",
      "Init: initializing centroids\n",
      "Init: initializing clusters\n",
      "Starting iterations...\n",
      "Run: 5, iteration: 1/100, moves: 504, ncost: 17579.213815001283\n",
      "Run: 5, iteration: 2/100, moves: 330, ncost: 15707.613477916135\n",
      "Run: 5, iteration: 3/100, moves: 207, ncost: 15190.684493963114\n",
      "Run: 5, iteration: 4/100, moves: 90, ncost: 14962.869349985622\n",
      "Run: 5, iteration: 5/100, moves: 39, ncost: 14854.22856648093\n",
      "Run: 5, iteration: 6/100, moves: 77, ncost: 14704.303091787997\n",
      "Run: 5, iteration: 7/100, moves: 52, ncost: 14699.087713335563\n",
      "Run: 5, iteration: 8/100, moves: 0, ncost: 14699.087713335563\n",
      "Init: initializing centroids\n",
      "Init: initializing clusters\n",
      "Starting iterations...\n",
      "Run: 6, iteration: 1/100, moves: 227, ncost: 14143.233071499237\n",
      "Run: 6, iteration: 2/100, moves: 14, ncost: 14143.080718546136\n",
      "Run: 6, iteration: 3/100, moves: 0, ncost: 14143.080718546136\n",
      "Init: initializing centroids\n",
      "Init: initializing clusters\n",
      "Starting iterations...\n",
      "Run: 7, iteration: 1/100, moves: 619, ncost: 16834.22497804954\n",
      "Run: 7, iteration: 2/100, moves: 315, ncost: 15523.449733379579\n",
      "Run: 7, iteration: 3/100, moves: 151, ncost: 15001.495365749644\n",
      "Run: 7, iteration: 4/100, moves: 77, ncost: 14459.175163241141\n",
      "Run: 7, iteration: 5/100, moves: 73, ncost: 14375.367242707764\n",
      "Run: 7, iteration: 6/100, moves: 4, ncost: 14373.444866100843\n",
      "Run: 7, iteration: 7/100, moves: 0, ncost: 14373.444866100843\n",
      "Init: initializing centroids\n",
      "Init: initializing clusters\n",
      "Starting iterations...\n",
      "Run: 8, iteration: 1/100, moves: 441, ncost: 15394.331849967906\n",
      "Run: 8, iteration: 2/100, moves: 252, ncost: 14402.190656602064\n",
      "Run: 8, iteration: 3/100, moves: 107, ncost: 14163.92823114159\n",
      "Run: 8, iteration: 4/100, moves: 29, ncost: 14148.29794610333\n",
      "Run: 8, iteration: 5/100, moves: 0, ncost: 14148.29794610333\n",
      "Init: initializing centroids\n",
      "Init: initializing clusters\n",
      "Starting iterations...\n",
      "Run: 9, iteration: 1/100, moves: 439, ncost: 16347.889905723148\n",
      "Run: 9, iteration: 2/100, moves: 226, ncost: 15440.018040671664\n",
      "Run: 9, iteration: 3/100, moves: 117, ncost: 15009.733339040931\n",
      "Run: 9, iteration: 4/100, moves: 93, ncost: 14856.699683963101\n",
      "Run: 9, iteration: 5/100, moves: 55, ncost: 14670.773307199914\n",
      "Run: 9, iteration: 6/100, moves: 65, ncost: 14541.764508719249\n",
      "Run: 9, iteration: 7/100, moves: 21, ncost: 14525.94220855457\n",
      "Run: 9, iteration: 8/100, moves: 4, ncost: 14524.832815433945\n",
      "Run: 9, iteration: 9/100, moves: 0, ncost: 14524.832815433945\n",
      "Init: initializing centroids\n",
      "Init: initializing clusters\n",
      "Starting iterations...\n",
      "Run: 10, iteration: 1/100, moves: 228, ncost: 15393.957993383156\n",
      "Run: 10, iteration: 2/100, moves: 136, ncost: 14244.900030597193\n",
      "Run: 10, iteration: 3/100, moves: 53, ncost: 14135.491501141325\n",
      "Run: 10, iteration: 4/100, moves: 24, ncost: 14122.983119444509\n",
      "Run: 10, iteration: 5/100, moves: 49, ncost: 14032.38969864771\n",
      "Run: 10, iteration: 6/100, moves: 38, ncost: 14030.656332828185\n",
      "Run: 10, iteration: 7/100, moves: 0, ncost: 14030.656332828185\n",
      "Best run was number 10\n"
     ]
    }
   ],
   "source": [
    "#clustersp = kp.fit_predict(data, categorical=list(range(M - MN, M)))\n",
    "clusters = kproto.fit_predict(gruppo_1_red, categorical=[0,2,3,4,5,6,7])"
   ]
  },
  {
   "cell_type": "code",
   "execution_count": 40,
   "metadata": {},
   "outputs": [
    {
     "name": "stdout",
     "output_type": "stream",
     "text": [
      "[array([[19.1975    ],\n",
      "       [26.08960573],\n",
      "       [22.15128401],\n",
      "       [47.09677419],\n",
      "       [32.87640449]]), array([['femmina', 'triennale', 'in corso', 'Umanistico-Sociale',\n",
      "        'vissuto emotivo individuale di disagio', 'non so/non risponde',\n",
      "        'studenti con difficoltà nel metodo di studio'],\n",
      "       ['maschio', 'triennale', 'fuori corso', 'Umanistico-Sociale',\n",
      "        'vissuto emotivo individuale di disagio', 'non so/non risponde',\n",
      "        'studenti con difficoltà emotive legate allo studio es., ansia, paure, ecc.'],\n",
      "       ['maschio', 'triennale', 'in corso', 'Umanistico-Sociale',\n",
      "        'non so/non risponde', 'non so/non risponde',\n",
      "        'studenti che sperimentano uno stato momentaneo di disagio psicologico'],\n",
      "       ['maschio', 'a ciclo unico', 'fuori corso', 'Umanistico-Sociale',\n",
      "        'vissuto emotivo individuale di disagio',\n",
      "        'ascolto, condivisione e gestione del disagio personale',\n",
      "        'studenti con difficoltà nel metodo di studio'],\n",
      "       ['maschio', 'triennale', 'fuori corso', 'Umanistico-Sociale',\n",
      "        'vissuto emotivo individuale di disagio', 'non so/non risponde',\n",
      "        'studenti con difficoltà emotive legate allo studio es., ansia, paure, ecc.']],\n",
      "      dtype='<U74')]\n"
     ]
    }
   ],
   "source": [
    "print(kproto.cluster_centroids_)"
   ]
  },
  {
   "cell_type": "code",
   "execution_count": 41,
   "metadata": {},
   "outputs": [
    {
     "name": "stdout",
     "output_type": "stream",
     "text": [
      "14030.656332828185\n",
      "7\n"
     ]
    }
   ],
   "source": [
    "print(kproto.cost_)\n",
    "print(kproto.n_iter_)"
   ]
  },
  {
   "cell_type": "code",
   "execution_count": 42,
   "metadata": {},
   "outputs": [
    {
     "data": {
      "text/plain": [
       "[<matplotlib.lines.Line2D at 0x7ffc98800d90>]"
      ]
     },
     "execution_count": 42,
     "metadata": {},
     "output_type": "execute_result"
    },
    {
     "data": {
      "image/png": "[encoded data removed]",
      "text/plain": [
       "<Figure size 432x288 with 1 Axes>"
      ]
     },
     "metadata": {
      "needs_background": "light"
     },
     "output_type": "display_data"
    }
   ],
   "source": [
    "cost = []\n",
    "for num_clusters in list(range(1,8)):\n",
    "    kproto = KPrototypes(n_clusters=num_clusters, init='Cao')\n",
    "    kproto.fit_predict(gruppo_1_red, categorical=[0,2,3,4,5,6,7])\n",
    "    cost.append(kproto.cost_)\n",
    "\n",
    "plt.plot(cost)"
   ]
  },
  {
   "cell_type": "markdown",
   "metadata": {},
   "source": [
    "---"
   ]
  },
  {
   "cell_type": "markdown",
   "metadata": {},
   "source": [
    "k-means"
   ]
  },
  {
   "cell_type": "code",
   "execution_count": 87,
   "metadata": {},
   "outputs": [],
   "source": [
    "gruppo_1 = pd.read_pickle(\"./gruppo_1.pkl\")\n",
    "gruppo_2 = pd.read_pickle(\"./gruppo_2.pkl\")\n",
    "gruppo_1.drop(['D_PopolazioneStudenti_2', 'D_PopolazioneStudenti_3'], axis=1, inplace=True)\n",
    "gruppo_2.drop(['D_PopolazioneStudenti_2', 'D_PopolazioneStudenti_3'], axis=1, inplace=True)"
   ]
  },
  {
   "cell_type": "code",
   "execution_count": 88,
   "metadata": {},
   "outputs": [],
   "source": [
    "gruppo_1['age_bin'] = pd.cut(gruppo_1['D_eta'], [0, 20, 30, 40, 50, 60, 70, 80, 90, 100], \n",
    "                              labels=['0-20', '20-30', '30-40', '40-50','50-60','60-70','70-80', '80-90','90-100'])\n",
    "gruppo_1  = gruppo_1.drop('D_eta',axis = 1)"
   ]
  },
  {
   "cell_type": "code",
   "execution_count": 89,
   "metadata": {},
   "outputs": [
    {
     "data": {
      "text/html": [
       "<div>\n",
       "<style scoped>\n",
       "    .dataframe tbody tr th:only-of-type {\n",
       "        vertical-align: middle;\n",
       "    }\n",
       "\n",
       "    .dataframe tbody tr th {\n",
       "        vertical-align: top;\n",
       "    }\n",
       "\n",
       "    .dataframe thead th {\n",
       "        text-align: right;\n",
       "    }\n",
       "</style>\n",
       "<table border=\"1\" class=\"dataframe\">\n",
       "  <thead>\n",
       "    <tr style=\"text-align: right;\">\n",
       "      <th></th>\n",
       "      <th>D_genere</th>\n",
       "      <th>D_Cdl</th>\n",
       "      <th>D_Status</th>\n",
       "      <th>R_AreeDisciplinari</th>\n",
       "      <th>D_Tipologia_Bisogni</th>\n",
       "      <th>D_Tipologia_Attivita</th>\n",
       "      <th>D_PopolazioneStudenti_1</th>\n",
       "      <th>age_bin</th>\n",
       "    </tr>\n",
       "  </thead>\n",
       "  <tbody>\n",
       "    <tr>\n",
       "      <th>15</th>\n",
       "      <td>maschio</td>\n",
       "      <td>a ciclo unico</td>\n",
       "      <td>in corso</td>\n",
       "      <td>Medica</td>\n",
       "      <td>altro</td>\n",
       "      <td>colloqui individuali</td>\n",
       "      <td>studenti con DSA</td>\n",
       "      <td>0-20</td>\n",
       "    </tr>\n",
       "    <tr>\n",
       "      <th>30</th>\n",
       "      <td>maschio</td>\n",
       "      <td>a ciclo unico</td>\n",
       "      <td>in corso</td>\n",
       "      <td>Medica</td>\n",
       "      <td>non so/non risponde</td>\n",
       "      <td>non so/non risponde</td>\n",
       "      <td>studenti con difficoltà nel metodo di studio</td>\n",
       "      <td>0-20</td>\n",
       "    </tr>\n",
       "    <tr>\n",
       "      <th>59</th>\n",
       "      <td>maschio</td>\n",
       "      <td>triennale</td>\n",
       "      <td>in corso</td>\n",
       "      <td>Scientifico-Tecnologica</td>\n",
       "      <td>non so/non risponde</td>\n",
       "      <td>non so/non risponde</td>\n",
       "      <td>studenti con difficoltà emotive legate allo st...</td>\n",
       "      <td>0-20</td>\n",
       "    </tr>\n",
       "    <tr>\n",
       "      <th>69</th>\n",
       "      <td>maschio</td>\n",
       "      <td>a ciclo unico</td>\n",
       "      <td>in corso</td>\n",
       "      <td>Medica</td>\n",
       "      <td>vissuto emotivo individuale di disagio</td>\n",
       "      <td>non so/non risponde</td>\n",
       "      <td>studenti che sperimentano difficoltà relaziona...</td>\n",
       "      <td>0-20</td>\n",
       "    </tr>\n",
       "    <tr>\n",
       "      <th>115</th>\n",
       "      <td>maschio</td>\n",
       "      <td>triennale</td>\n",
       "      <td>in corso</td>\n",
       "      <td>Umanistico-Sociale</td>\n",
       "      <td>empowerment strategie personali e di adattamento</td>\n",
       "      <td>ascolto, condivisione e gestione del disagio p...</td>\n",
       "      <td>studenti che sperimentano difficoltà nei rappo...</td>\n",
       "      <td>0-20</td>\n",
       "    </tr>\n",
       "  </tbody>\n",
       "</table>\n",
       "</div>"
      ],
      "text/plain": [
       "    D_genere          D_Cdl  D_Status       R_AreeDisciplinari  \\\n",
       "15   maschio  a ciclo unico  in corso                   Medica   \n",
       "30   maschio  a ciclo unico  in corso                   Medica   \n",
       "59   maschio      triennale  in corso  Scientifico-Tecnologica   \n",
       "69   maschio  a ciclo unico  in corso                   Medica   \n",
       "115  maschio      triennale  in corso       Umanistico-Sociale   \n",
       "\n",
       "                                  D_Tipologia_Bisogni  \\\n",
       "15                                              altro   \n",
       "30                                non so/non risponde   \n",
       "59                                non so/non risponde   \n",
       "69             vissuto emotivo individuale di disagio   \n",
       "115  empowerment strategie personali e di adattamento   \n",
       "\n",
       "                                  D_Tipologia_Attivita  \\\n",
       "15                                colloqui individuali   \n",
       "30                                 non so/non risponde   \n",
       "59                                 non so/non risponde   \n",
       "69                                 non so/non risponde   \n",
       "115  ascolto, condivisione e gestione del disagio p...   \n",
       "\n",
       "                               D_PopolazioneStudenti_1 age_bin  \n",
       "15                                    studenti con DSA    0-20  \n",
       "30        studenti con difficoltà nel metodo di studio    0-20  \n",
       "59   studenti con difficoltà emotive legate allo st...    0-20  \n",
       "69   studenti che sperimentano difficoltà relaziona...    0-20  \n",
       "115  studenti che sperimentano difficoltà nei rappo...    0-20  "
      ]
     },
     "execution_count": 89,
     "metadata": {},
     "output_type": "execute_result"
    }
   ],
   "source": [
    "gruppo_1.head()"
   ]
  },
  {
   "cell_type": "code",
   "execution_count": 90,
   "metadata": {},
   "outputs": [
    {
     "data": {
      "text/plain": [
       "(1245, 8)"
      ]
     },
     "execution_count": 90,
     "metadata": {},
     "output_type": "execute_result"
    }
   ],
   "source": [
    "gruppo_1.shape"
   ]
  },
  {
   "cell_type": "code",
   "execution_count": 91,
   "metadata": {},
   "outputs": [
    {
     "name": "stdout",
     "output_type": "stream",
     "text": [
      "<class 'pandas.core.frame.DataFrame'>\n",
      "Int64Index: 1245 entries, 15 to 16377\n",
      "Data columns (total 8 columns):\n",
      " #   Column                   Non-Null Count  Dtype   \n",
      "---  ------                   --------------  -----   \n",
      " 0   D_genere                 1245 non-null   object  \n",
      " 1   D_Cdl                    1245 non-null   object  \n",
      " 2   D_Status                 1245 non-null   object  \n",
      " 3   R_AreeDisciplinari       1245 non-null   object  \n",
      " 4   D_Tipologia_Bisogni      1245 non-null   object  \n",
      " 5   D_Tipologia_Attivita     1245 non-null   object  \n",
      " 6   D_PopolazioneStudenti_1  1245 non-null   object  \n",
      " 7   age_bin                  1245 non-null   category\n",
      "dtypes: category(1), object(7)\n",
      "memory usage: 79.4+ KB\n"
     ]
    }
   ],
   "source": [
    "gruppo_1.info()"
   ]
  },
  {
   "cell_type": "code",
   "execution_count": 92,
   "metadata": {},
   "outputs": [],
   "source": [
    "for col in gruppo_1.columns:\n",
    "    gruppo_1[col] = gruppo_1[col].astype('category')"
   ]
  },
  {
   "cell_type": "code",
   "execution_count": 93,
   "metadata": {},
   "outputs": [
    {
     "name": "stdout",
     "output_type": "stream",
     "text": [
      "<class 'pandas.core.frame.DataFrame'>\n",
      "Int64Index: 1245 entries, 15 to 16377\n",
      "Data columns (total 8 columns):\n",
      " #   Column                   Non-Null Count  Dtype   \n",
      "---  ------                   --------------  -----   \n",
      " 0   D_genere                 1245 non-null   category\n",
      " 1   D_Cdl                    1245 non-null   category\n",
      " 2   D_Status                 1245 non-null   category\n",
      " 3   R_AreeDisciplinari       1245 non-null   category\n",
      " 4   D_Tipologia_Bisogni      1245 non-null   category\n",
      " 5   D_Tipologia_Attivita     1245 non-null   category\n",
      " 6   D_PopolazioneStudenti_1  1245 non-null   category\n",
      " 7   age_bin                  1245 non-null   category\n",
      "dtypes: category(8)\n",
      "memory usage: 21.5 KB\n"
     ]
    }
   ],
   "source": [
    "gruppo_1.info()"
   ]
  },
  {
   "cell_type": "code",
   "execution_count": 94,
   "metadata": {},
   "outputs": [],
   "source": [
    "gruppo_1_copy = gruppo_1.copy()"
   ]
  },
  {
   "cell_type": "code",
   "execution_count": 95,
   "metadata": {},
   "outputs": [],
   "source": [
    "from sklearn import preprocessing\n",
    "le = preprocessing.LabelEncoder()\n",
    "gruppo_1 = gruppo_1.apply(le.fit_transform)"
   ]
  },
  {
   "cell_type": "code",
   "execution_count": 96,
   "metadata": {},
   "outputs": [
    {
     "data": {
      "text/html": [
       "<div>\n",
       "<style scoped>\n",
       "    .dataframe tbody tr th:only-of-type {\n",
       "        vertical-align: middle;\n",
       "    }\n",
       "\n",
       "    .dataframe tbody tr th {\n",
       "        vertical-align: top;\n",
       "    }\n",
       "\n",
       "    .dataframe thead th {\n",
       "        text-align: right;\n",
       "    }\n",
       "</style>\n",
       "<table border=\"1\" class=\"dataframe\">\n",
       "  <thead>\n",
       "    <tr style=\"text-align: right;\">\n",
       "      <th></th>\n",
       "      <th>D_genere</th>\n",
       "      <th>D_Cdl</th>\n",
       "      <th>D_Status</th>\n",
       "      <th>R_AreeDisciplinari</th>\n",
       "      <th>D_Tipologia_Bisogni</th>\n",
       "      <th>D_Tipologia_Attivita</th>\n",
       "      <th>D_PopolazioneStudenti_1</th>\n",
       "      <th>age_bin</th>\n",
       "    </tr>\n",
       "  </thead>\n",
       "  <tbody>\n",
       "    <tr>\n",
       "      <th>15</th>\n",
       "      <td>1</td>\n",
       "      <td>0</td>\n",
       "      <td>1</td>\n",
       "      <td>0</td>\n",
       "      <td>2</td>\n",
       "      <td>3</td>\n",
       "      <td>3</td>\n",
       "      <td>0</td>\n",
       "    </tr>\n",
       "    <tr>\n",
       "      <th>30</th>\n",
       "      <td>1</td>\n",
       "      <td>0</td>\n",
       "      <td>1</td>\n",
       "      <td>0</td>\n",
       "      <td>7</td>\n",
       "      <td>7</td>\n",
       "      <td>5</td>\n",
       "      <td>0</td>\n",
       "    </tr>\n",
       "    <tr>\n",
       "      <th>59</th>\n",
       "      <td>1</td>\n",
       "      <td>2</td>\n",
       "      <td>1</td>\n",
       "      <td>2</td>\n",
       "      <td>7</td>\n",
       "      <td>7</td>\n",
       "      <td>4</td>\n",
       "      <td>0</td>\n",
       "    </tr>\n",
       "    <tr>\n",
       "      <th>69</th>\n",
       "      <td>1</td>\n",
       "      <td>0</td>\n",
       "      <td>1</td>\n",
       "      <td>0</td>\n",
       "      <td>10</td>\n",
       "      <td>7</td>\n",
       "      <td>1</td>\n",
       "      <td>0</td>\n",
       "    </tr>\n",
       "    <tr>\n",
       "      <th>115</th>\n",
       "      <td>1</td>\n",
       "      <td>2</td>\n",
       "      <td>1</td>\n",
       "      <td>3</td>\n",
       "      <td>5</td>\n",
       "      <td>2</td>\n",
       "      <td>0</td>\n",
       "      <td>0</td>\n",
       "    </tr>\n",
       "  </tbody>\n",
       "</table>\n",
       "</div>"
      ],
      "text/plain": [
       "     D_genere  D_Cdl  D_Status  R_AreeDisciplinari  D_Tipologia_Bisogni  \\\n",
       "15          1      0         1                   0                    2   \n",
       "30          1      0         1                   0                    7   \n",
       "59          1      2         1                   2                    7   \n",
       "69          1      0         1                   0                   10   \n",
       "115         1      2         1                   3                    5   \n",
       "\n",
       "     D_Tipologia_Attivita  D_PopolazioneStudenti_1  age_bin  \n",
       "15                      3                        3        0  \n",
       "30                      7                        5        0  \n",
       "59                      7                        4        0  \n",
       "69                      7                        1        0  \n",
       "115                     2                        0        0  "
      ]
     },
     "execution_count": 96,
     "metadata": {},
     "output_type": "execute_result"
    }
   ],
   "source": [
    "gruppo_1.head()"
   ]
  },
  {
   "cell_type": "code",
   "execution_count": 97,
   "metadata": {},
   "outputs": [
    {
     "name": "stdout",
     "output_type": "stream",
     "text": [
      "Init: initializing centroids\n",
      "Init: initializing clusters\n",
      "Starting iterations...\n",
      "Run 1, iteration: 1/100, moves: 0, cost: 3987.0\n"
     ]
    }
   ],
   "source": [
    "from kmodes.kmodes import KModes\n",
    "km_cao = KModes(n_clusters=3, init = \"Cao\", n_init = 1, verbose=1)\n",
    "fitClusters_cao = km_cao.fit_predict(gruppo_1)"
   ]
  },
  {
   "cell_type": "code",
   "execution_count": 98,
   "metadata": {},
   "outputs": [
    {
     "data": {
      "text/plain": [
       "array([1, 2, 0, ..., 2, 2, 2], dtype=uint16)"
      ]
     },
     "execution_count": 98,
     "metadata": {},
     "output_type": "execute_result"
    }
   ],
   "source": [
    "fitClusters_cao\n"
   ]
  },
  {
   "cell_type": "code",
   "execution_count": 99,
   "metadata": {},
   "outputs": [
    {
     "data": {
      "text/html": [
       "<div>\n",
       "<style scoped>\n",
       "    .dataframe tbody tr th:only-of-type {\n",
       "        vertical-align: middle;\n",
       "    }\n",
       "\n",
       "    .dataframe tbody tr th {\n",
       "        vertical-align: top;\n",
       "    }\n",
       "\n",
       "    .dataframe thead th {\n",
       "        text-align: right;\n",
       "    }\n",
       "</style>\n",
       "<table border=\"1\" class=\"dataframe\">\n",
       "  <thead>\n",
       "    <tr style=\"text-align: right;\">\n",
       "      <th></th>\n",
       "      <th>D_genere</th>\n",
       "      <th>D_Cdl</th>\n",
       "      <th>D_Status</th>\n",
       "      <th>R_AreeDisciplinari</th>\n",
       "      <th>D_Tipologia_Bisogni</th>\n",
       "      <th>D_Tipologia_Attivita</th>\n",
       "      <th>D_PopolazioneStudenti_1</th>\n",
       "      <th>age_bin</th>\n",
       "    </tr>\n",
       "  </thead>\n",
       "  <tbody>\n",
       "    <tr>\n",
       "      <th>0</th>\n",
       "      <td>1</td>\n",
       "      <td>2</td>\n",
       "      <td>1</td>\n",
       "      <td>3</td>\n",
       "      <td>10</td>\n",
       "      <td>7</td>\n",
       "      <td>4</td>\n",
       "      <td>1</td>\n",
       "    </tr>\n",
       "    <tr>\n",
       "      <th>1</th>\n",
       "      <td>1</td>\n",
       "      <td>1</td>\n",
       "      <td>1</td>\n",
       "      <td>2</td>\n",
       "      <td>5</td>\n",
       "      <td>2</td>\n",
       "      <td>2</td>\n",
       "      <td>0</td>\n",
       "    </tr>\n",
       "    <tr>\n",
       "      <th>2</th>\n",
       "      <td>0</td>\n",
       "      <td>2</td>\n",
       "      <td>1</td>\n",
       "      <td>3</td>\n",
       "      <td>7</td>\n",
       "      <td>2</td>\n",
       "      <td>5</td>\n",
       "      <td>0</td>\n",
       "    </tr>\n",
       "  </tbody>\n",
       "</table>\n",
       "</div>"
      ],
      "text/plain": [
       "   D_genere  D_Cdl  D_Status  R_AreeDisciplinari  D_Tipologia_Bisogni  \\\n",
       "0         1      2         1                   3                   10   \n",
       "1         1      1         1                   2                    5   \n",
       "2         0      2         1                   3                    7   \n",
       "\n",
       "   D_Tipologia_Attivita  D_PopolazioneStudenti_1  age_bin  \n",
       "0                     7                        4        1  \n",
       "1                     2                        2        0  \n",
       "2                     2                        5        0  "
      ]
     },
     "execution_count": 99,
     "metadata": {},
     "output_type": "execute_result"
    }
   ],
   "source": [
    "clusterCentroidsDf = pd.DataFrame(km_cao.cluster_centroids_)\n",
    "clusterCentroidsDf.columns = gruppo_1.columns\n",
    "clusterCentroidsDf\n"
   ]
  },
  {
   "cell_type": "code",
   "execution_count": 100,
   "metadata": {},
   "outputs": [
    {
     "name": "stdout",
     "output_type": "stream",
     "text": [
      "Init: initializing centroids\n",
      "Init: initializing clusters\n",
      "Starting iterations...\n",
      "Run 1, iteration: 1/100, moves: 230, cost: 4233.0\n",
      "Run 1, iteration: 2/100, moves: 299, cost: 4046.0\n",
      "Run 1, iteration: 3/100, moves: 119, cost: 4046.0\n"
     ]
    }
   ],
   "source": [
    "km_huang = KModes(n_clusters=2, init = \"Huang\", n_init = 1, verbose=1)\n",
    "fitClusters_huang = km_huang.fit_predict(gruppo_1)"
   ]
  },
  {
   "cell_type": "code",
   "execution_count": 101,
   "metadata": {},
   "outputs": [
    {
     "data": {
      "text/plain": [
       "array([0, 1, 1, ..., 0, 0, 0], dtype=uint16)"
      ]
     },
     "execution_count": 101,
     "metadata": {},
     "output_type": "execute_result"
    }
   ],
   "source": [
    "fitClusters_huang"
   ]
  },
  {
   "cell_type": "code",
   "execution_count": 102,
   "metadata": {},
   "outputs": [
    {
     "name": "stdout",
     "output_type": "stream",
     "text": [
      "Init: initializing centroids\n",
      "Init: initializing clusters\n",
      "Starting iterations...\n",
      "Run 1, iteration: 1/100, moves: 0, cost: 4689.0\n",
      "Init: initializing centroids\n",
      "Init: initializing clusters\n",
      "Starting iterations...\n",
      "Run 1, iteration: 1/100, moves: 142, cost: 4215.0\n",
      "Run 1, iteration: 2/100, moves: 69, cost: 4215.0\n",
      "Init: initializing centroids\n",
      "Init: initializing clusters\n",
      "Starting iterations...\n",
      "Run 1, iteration: 1/100, moves: 0, cost: 3987.0\n",
      "Init: initializing centroids\n",
      "Init: initializing clusters\n",
      "Starting iterations...\n",
      "Run 1, iteration: 1/100, moves: 86, cost: 3615.0\n",
      "Init: initializing centroids\n",
      "Init: initializing clusters\n",
      "Starting iterations...\n",
      "Run 1, iteration: 1/100, moves: 192, cost: 3215.0\n",
      "Run 1, iteration: 2/100, moves: 151, cost: 3215.0\n",
      "Init: initializing centroids\n",
      "Init: initializing clusters\n",
      "Starting iterations...\n",
      "Run 1, iteration: 1/100, moves: 236, cost: 3162.0\n",
      "Run 1, iteration: 2/100, moves: 128, cost: 3124.0\n",
      "Run 1, iteration: 3/100, moves: 16, cost: 3124.0\n",
      "Init: initializing centroids\n",
      "Init: initializing clusters\n",
      "Starting iterations...\n",
      "Run 1, iteration: 1/100, moves: 287, cost: 3009.0\n",
      "Run 1, iteration: 2/100, moves: 14, cost: 3009.0\n"
     ]
    }
   ],
   "source": [
    "cost = []\n",
    "for num_clusters in list(range(1,8)):\n",
    "    kmode = KModes(n_clusters=num_clusters, init = \"Cao\", n_init = 1, verbose=1)\n",
    "    kmode.fit_predict(gruppo_1)\n",
    "    cost.append(kmode.cost_)"
   ]
  },
  {
   "cell_type": "code",
   "execution_count": 103,
   "metadata": {},
   "outputs": [
    {
     "data": {
      "text/plain": [
       "[<matplotlib.lines.Line2D at 0x7ffca88d8d50>]"
      ]
     },
     "execution_count": 103,
     "metadata": {},
     "output_type": "execute_result"
    },
    {
     "data": {
      "image/png": "[encoded data removed]",
      "text/plain": [
       "<Figure size 432x288 with 1 Axes>"
      ]
     },
     "metadata": {
      "needs_background": "light"
     },
     "output_type": "display_data"
    }
   ],
   "source": [
    "import numpy as np\n",
    "y = np.array([i for i in range(1,8,1)])\n",
    "plt.plot(y,cost)"
   ]
  },
  {
   "cell_type": "code",
   "execution_count": 105,
   "metadata": {},
   "outputs": [],
   "source": [
    "gruppo_1 = gruppo_1_copy.reset_index()"
   ]
  },
  {
   "cell_type": "code",
   "execution_count": 106,
   "metadata": {},
   "outputs": [
    {
     "data": {
      "text/html": [
       "<div>\n",
       "<style scoped>\n",
       "    .dataframe tbody tr th:only-of-type {\n",
       "        vertical-align: middle;\n",
       "    }\n",
       "\n",
       "    .dataframe tbody tr th {\n",
       "        vertical-align: top;\n",
       "    }\n",
       "\n",
       "    .dataframe thead th {\n",
       "        text-align: right;\n",
       "    }\n",
       "</style>\n",
       "<table border=\"1\" class=\"dataframe\">\n",
       "  <thead>\n",
       "    <tr style=\"text-align: right;\">\n",
       "      <th></th>\n",
       "      <th>index</th>\n",
       "      <th>D_genere</th>\n",
       "      <th>D_Cdl</th>\n",
       "      <th>D_Status</th>\n",
       "      <th>R_AreeDisciplinari</th>\n",
       "      <th>D_Tipologia_Bisogni</th>\n",
       "      <th>D_Tipologia_Attivita</th>\n",
       "      <th>D_PopolazioneStudenti_1</th>\n",
       "      <th>age_bin</th>\n",
       "    </tr>\n",
       "  </thead>\n",
       "  <tbody>\n",
       "    <tr>\n",
       "      <th>0</th>\n",
       "      <td>15</td>\n",
       "      <td>maschio</td>\n",
       "      <td>a ciclo unico</td>\n",
       "      <td>in corso</td>\n",
       "      <td>Medica</td>\n",
       "      <td>altro</td>\n",
       "      <td>colloqui individuali</td>\n",
       "      <td>studenti con DSA</td>\n",
       "      <td>0-20</td>\n",
       "    </tr>\n",
       "    <tr>\n",
       "      <th>1</th>\n",
       "      <td>30</td>\n",
       "      <td>maschio</td>\n",
       "      <td>a ciclo unico</td>\n",
       "      <td>in corso</td>\n",
       "      <td>Medica</td>\n",
       "      <td>non so/non risponde</td>\n",
       "      <td>non so/non risponde</td>\n",
       "      <td>studenti con difficoltà nel metodo di studio</td>\n",
       "      <td>0-20</td>\n",
       "    </tr>\n",
       "    <tr>\n",
       "      <th>2</th>\n",
       "      <td>59</td>\n",
       "      <td>maschio</td>\n",
       "      <td>triennale</td>\n",
       "      <td>in corso</td>\n",
       "      <td>Scientifico-Tecnologica</td>\n",
       "      <td>non so/non risponde</td>\n",
       "      <td>non so/non risponde</td>\n",
       "      <td>studenti con difficoltà emotive legate allo st...</td>\n",
       "      <td>0-20</td>\n",
       "    </tr>\n",
       "    <tr>\n",
       "      <th>3</th>\n",
       "      <td>69</td>\n",
       "      <td>maschio</td>\n",
       "      <td>a ciclo unico</td>\n",
       "      <td>in corso</td>\n",
       "      <td>Medica</td>\n",
       "      <td>vissuto emotivo individuale di disagio</td>\n",
       "      <td>non so/non risponde</td>\n",
       "      <td>studenti che sperimentano difficoltà relaziona...</td>\n",
       "      <td>0-20</td>\n",
       "    </tr>\n",
       "    <tr>\n",
       "      <th>4</th>\n",
       "      <td>115</td>\n",
       "      <td>maschio</td>\n",
       "      <td>triennale</td>\n",
       "      <td>in corso</td>\n",
       "      <td>Umanistico-Sociale</td>\n",
       "      <td>empowerment strategie personali e di adattamento</td>\n",
       "      <td>ascolto, condivisione e gestione del disagio p...</td>\n",
       "      <td>studenti che sperimentano difficoltà nei rappo...</td>\n",
       "      <td>0-20</td>\n",
       "    </tr>\n",
       "  </tbody>\n",
       "</table>\n",
       "</div>"
      ],
      "text/plain": [
       "   index D_genere          D_Cdl  D_Status       R_AreeDisciplinari  \\\n",
       "0     15  maschio  a ciclo unico  in corso                   Medica   \n",
       "1     30  maschio  a ciclo unico  in corso                   Medica   \n",
       "2     59  maschio      triennale  in corso  Scientifico-Tecnologica   \n",
       "3     69  maschio  a ciclo unico  in corso                   Medica   \n",
       "4    115  maschio      triennale  in corso       Umanistico-Sociale   \n",
       "\n",
       "                                D_Tipologia_Bisogni  \\\n",
       "0                                             altro   \n",
       "1                               non so/non risponde   \n",
       "2                               non so/non risponde   \n",
       "3            vissuto emotivo individuale di disagio   \n",
       "4  empowerment strategie personali e di adattamento   \n",
       "\n",
       "                                D_Tipologia_Attivita  \\\n",
       "0                               colloqui individuali   \n",
       "1                                non so/non risponde   \n",
       "2                                non so/non risponde   \n",
       "3                                non so/non risponde   \n",
       "4  ascolto, condivisione e gestione del disagio p...   \n",
       "\n",
       "                             D_PopolazioneStudenti_1 age_bin  \n",
       "0                                   studenti con DSA    0-20  \n",
       "1       studenti con difficoltà nel metodo di studio    0-20  \n",
       "2  studenti con difficoltà emotive legate allo st...    0-20  \n",
       "3  studenti che sperimentano difficoltà relaziona...    0-20  \n",
       "4  studenti che sperimentano difficoltà nei rappo...    0-20  "
      ]
     },
     "execution_count": 106,
     "metadata": {},
     "output_type": "execute_result"
    }
   ],
   "source": [
    "gruppo_1.head()"
   ]
  },
  {
   "cell_type": "code",
   "execution_count": 107,
   "metadata": {},
   "outputs": [
    {
     "name": "stdout",
     "output_type": "stream",
     "text": [
      "Init: initializing centroids\n",
      "Init: initializing clusters\n",
      "Starting iterations...\n",
      "Run 1, iteration: 1/100, moves: 142, cost: 5458.0\n",
      "Run 1, iteration: 2/100, moves: 69, cost: 5458.0\n",
      "[1 0 0 ... 0 0 0]\n"
     ]
    }
   ],
   "source": [
    "km_cao = KModes(n_clusters=2, init = \"Cao\", n_init = 1, verbose=1)\n",
    "fitClusters_cao = km_cao.fit_predict(gruppo_1)\n",
    "print(fitClusters_cao)"
   ]
  },
  {
   "cell_type": "code",
   "execution_count": 110,
   "metadata": {},
   "outputs": [],
   "source": [
    "clustersDf = pd.DataFrame(fitClusters_cao)\n",
    "clustersDf.columns = ['cluster_predicted']\n",
    "combinedDf = pd.concat([gruppo_1, clustersDf], axis = 1).reset_index()\n",
    "combinedDf = combinedDf.drop(['index', 'level_0'], axis = 1)"
   ]
  },
  {
   "cell_type": "code",
   "execution_count": 111,
   "metadata": {},
   "outputs": [
    {
     "data": {
      "text/html": [
       "<div>\n",
       "<style scoped>\n",
       "    .dataframe tbody tr th:only-of-type {\n",
       "        vertical-align: middle;\n",
       "    }\n",
       "\n",
       "    .dataframe tbody tr th {\n",
       "        vertical-align: top;\n",
       "    }\n",
       "\n",
       "    .dataframe thead th {\n",
       "        text-align: right;\n",
       "    }\n",
       "</style>\n",
       "<table border=\"1\" class=\"dataframe\">\n",
       "  <thead>\n",
       "    <tr style=\"text-align: right;\">\n",
       "      <th></th>\n",
       "      <th>D_genere</th>\n",
       "      <th>D_Cdl</th>\n",
       "      <th>D_Status</th>\n",
       "      <th>R_AreeDisciplinari</th>\n",
       "      <th>D_Tipologia_Bisogni</th>\n",
       "      <th>D_Tipologia_Attivita</th>\n",
       "      <th>D_PopolazioneStudenti_1</th>\n",
       "      <th>age_bin</th>\n",
       "      <th>cluster_predicted</th>\n",
       "    </tr>\n",
       "  </thead>\n",
       "  <tbody>\n",
       "    <tr>\n",
       "      <th>0</th>\n",
       "      <td>maschio</td>\n",
       "      <td>a ciclo unico</td>\n",
       "      <td>in corso</td>\n",
       "      <td>Medica</td>\n",
       "      <td>altro</td>\n",
       "      <td>colloqui individuali</td>\n",
       "      <td>studenti con DSA</td>\n",
       "      <td>0-20</td>\n",
       "      <td>1</td>\n",
       "    </tr>\n",
       "    <tr>\n",
       "      <th>1</th>\n",
       "      <td>maschio</td>\n",
       "      <td>a ciclo unico</td>\n",
       "      <td>in corso</td>\n",
       "      <td>Medica</td>\n",
       "      <td>non so/non risponde</td>\n",
       "      <td>non so/non risponde</td>\n",
       "      <td>studenti con difficoltà nel metodo di studio</td>\n",
       "      <td>0-20</td>\n",
       "      <td>0</td>\n",
       "    </tr>\n",
       "    <tr>\n",
       "      <th>2</th>\n",
       "      <td>maschio</td>\n",
       "      <td>triennale</td>\n",
       "      <td>in corso</td>\n",
       "      <td>Scientifico-Tecnologica</td>\n",
       "      <td>non so/non risponde</td>\n",
       "      <td>non so/non risponde</td>\n",
       "      <td>studenti con difficoltà emotive legate allo st...</td>\n",
       "      <td>0-20</td>\n",
       "      <td>0</td>\n",
       "    </tr>\n",
       "    <tr>\n",
       "      <th>3</th>\n",
       "      <td>maschio</td>\n",
       "      <td>a ciclo unico</td>\n",
       "      <td>in corso</td>\n",
       "      <td>Medica</td>\n",
       "      <td>vissuto emotivo individuale di disagio</td>\n",
       "      <td>non so/non risponde</td>\n",
       "      <td>studenti che sperimentano difficoltà relaziona...</td>\n",
       "      <td>0-20</td>\n",
       "      <td>0</td>\n",
       "    </tr>\n",
       "    <tr>\n",
       "      <th>4</th>\n",
       "      <td>maschio</td>\n",
       "      <td>triennale</td>\n",
       "      <td>in corso</td>\n",
       "      <td>Umanistico-Sociale</td>\n",
       "      <td>empowerment strategie personali e di adattamento</td>\n",
       "      <td>ascolto, condivisione e gestione del disagio p...</td>\n",
       "      <td>studenti che sperimentano difficoltà nei rappo...</td>\n",
       "      <td>0-20</td>\n",
       "      <td>1</td>\n",
       "    </tr>\n",
       "  </tbody>\n",
       "</table>\n",
       "</div>"
      ],
      "text/plain": [
       "  D_genere          D_Cdl  D_Status       R_AreeDisciplinari  \\\n",
       "0  maschio  a ciclo unico  in corso                   Medica   \n",
       "1  maschio  a ciclo unico  in corso                   Medica   \n",
       "2  maschio      triennale  in corso  Scientifico-Tecnologica   \n",
       "3  maschio  a ciclo unico  in corso                   Medica   \n",
       "4  maschio      triennale  in corso       Umanistico-Sociale   \n",
       "\n",
       "                                D_Tipologia_Bisogni  \\\n",
       "0                                             altro   \n",
       "1                               non so/non risponde   \n",
       "2                               non so/non risponde   \n",
       "3            vissuto emotivo individuale di disagio   \n",
       "4  empowerment strategie personali e di adattamento   \n",
       "\n",
       "                                D_Tipologia_Attivita  \\\n",
       "0                               colloqui individuali   \n",
       "1                                non so/non risponde   \n",
       "2                                non so/non risponde   \n",
       "3                                non so/non risponde   \n",
       "4  ascolto, condivisione e gestione del disagio p...   \n",
       "\n",
       "                             D_PopolazioneStudenti_1 age_bin  \\\n",
       "0                                   studenti con DSA    0-20   \n",
       "1       studenti con difficoltà nel metodo di studio    0-20   \n",
       "2  studenti con difficoltà emotive legate allo st...    0-20   \n",
       "3  studenti che sperimentano difficoltà relaziona...    0-20   \n",
       "4  studenti che sperimentano difficoltà nei rappo...    0-20   \n",
       "\n",
       "   cluster_predicted  \n",
       "0                  1  \n",
       "1                  0  \n",
       "2                  0  \n",
       "3                  0  \n",
       "4                  1  "
      ]
     },
     "execution_count": 111,
     "metadata": {},
     "output_type": "execute_result"
    }
   ],
   "source": [
    "combinedDf.head()\n"
   ]
  },
  {
   "cell_type": "code",
   "execution_count": 112,
   "metadata": {},
   "outputs": [],
   "source": [
    "cluster_0 = combinedDf[combinedDf['cluster_predicted'] == 0]\n",
    "cluster_1 = combinedDf[combinedDf['cluster_predicted'] == 1]"
   ]
  },
  {
   "cell_type": "code",
   "execution_count": 113,
   "metadata": {},
   "outputs": [
    {
     "name": "stdout",
     "output_type": "stream",
     "text": [
      "<class 'pandas.core.frame.DataFrame'>\n",
      "Int64Index: 953 entries, 1 to 1244\n",
      "Data columns (total 9 columns):\n",
      " #   Column                   Non-Null Count  Dtype   \n",
      "---  ------                   --------------  -----   \n",
      " 0   D_genere                 953 non-null    category\n",
      " 1   D_Cdl                    953 non-null    category\n",
      " 2   D_Status                 953 non-null    category\n",
      " 3   R_AreeDisciplinari       953 non-null    category\n",
      " 4   D_Tipologia_Bisogni      953 non-null    category\n",
      " 5   D_Tipologia_Attivita     953 non-null    category\n",
      " 6   D_PopolazioneStudenti_1  953 non-null    category\n",
      " 7   age_bin                  953 non-null    category\n",
      " 8   cluster_predicted        953 non-null    uint16  \n",
      "dtypes: category(8), uint16(1)\n",
      "memory usage: 18.8 KB\n"
     ]
    }
   ],
   "source": [
    "cluster_0.info()"
   ]
  },
  {
   "cell_type": "code",
   "execution_count": 114,
   "metadata": {},
   "outputs": [
    {
     "name": "stdout",
     "output_type": "stream",
     "text": [
      "<class 'pandas.core.frame.DataFrame'>\n",
      "Int64Index: 292 entries, 0 to 1237\n",
      "Data columns (total 9 columns):\n",
      " #   Column                   Non-Null Count  Dtype   \n",
      "---  ------                   --------------  -----   \n",
      " 0   D_genere                 292 non-null    category\n",
      " 1   D_Cdl                    292 non-null    category\n",
      " 2   D_Status                 292 non-null    category\n",
      " 3   R_AreeDisciplinari       292 non-null    category\n",
      " 4   D_Tipologia_Bisogni      292 non-null    category\n",
      " 5   D_Tipologia_Attivita     292 non-null    category\n",
      " 6   D_PopolazioneStudenti_1  292 non-null    category\n",
      " 7   age_bin                  292 non-null    category\n",
      " 8   cluster_predicted        292 non-null    uint16  \n",
      "dtypes: category(8), uint16(1)\n",
      "memory usage: 7.2 KB\n"
     ]
    }
   ],
   "source": [
    "cluster_1.info()"
   ]
  },
  {
   "cell_type": "code",
   "execution_count": 116,
   "metadata": {},
   "outputs": [
    {
     "data": {
      "image/png": "[encoded data removed]",
      "text/plain": [
       "<Figure size 1080x360 with 1 Axes>"
      ]
     },
     "metadata": {
      "needs_background": "light"
     },
     "output_type": "display_data"
    }
   ],
   "source": [
    "import seaborn as sns\n",
    "plt.subplots(figsize = (15,5))\n",
    "sns.countplot(x=combinedDf['D_Status'],order=combinedDf['D_Status'].value_counts().index,hue=combinedDf['cluster_predicted'])\n",
    "plt.show()"
   ]
  },
  {
   "cell_type": "code",
   "execution_count": 117,
   "metadata": {},
   "outputs": [
    {
     "data": {
      "image/png": "[encoded data removed]",
      "text/plain": [
       "<Figure size 360x360 with 1 Axes>"
      ]
     },
     "metadata": {
      "needs_background": "light"
     },
     "output_type": "display_data"
    }
   ],
   "source": [
    "plt.subplots(figsize = (5,5))\n",
    "sns.countplot(x=combinedDf['D_Cdl'],order=combinedDf['D_Cdl'].value_counts().index,hue=combinedDf['cluster_predicted'])\n",
    "plt.show()"
   ]
  },
  {
   "cell_type": "code",
   "execution_count": 119,
   "metadata": {},
   "outputs": [
    {
     "data": {
      "image/png": "[encoded data removed]",
      "text/plain": [
       "<Figure size 1080x360 with 1 Axes>"
      ]
     },
     "metadata": {
      "needs_background": "light"
     },
     "output_type": "display_data"
    }
   ],
   "source": [
    "plt.subplots(figsize = (15,5))\n",
    "sns.countplot(x=combinedDf['D_PopolazioneStudenti_1'],order=combinedDf['D_PopolazioneStudenti_1'].value_counts().index,hue=combinedDf['cluster_predicted'])\n",
    "plt.tight_layout()\n",
    "plt.show()"
   ]
  },
  {
   "cell_type": "code",
   "execution_count": 120,
   "metadata": {},
   "outputs": [
    {
     "data": {
      "image/png": "[encoded data removed]",
      "text/plain": [
       "<Figure size 1080x360 with 3 Axes>"
      ]
     },
     "metadata": {
      "needs_background": "light"
     },
     "output_type": "display_data"
    }
   ],
   "source": [
    "f, axs = plt.subplots(1,3,figsize = (15,5))\n",
    "sns.countplot(x=combinedDf['R_AreeDisciplinari'],order=combinedDf['R_AreeDisciplinari'].value_counts().index,hue=combinedDf['cluster_predicted'],ax=axs[0])\n",
    "sns.countplot(x=combinedDf['D_genere'],order=combinedDf['D_genere'].value_counts().index,hue=combinedDf['cluster_predicted'],ax=axs[1])\n",
    "sns.countplot(x=combinedDf['D_Status'],order=combinedDf['D_Status'].value_counts().index,hue=combinedDf['cluster_predicted'],ax=axs[2])\n",
    "\n",
    "plt.tight_layout()\n",
    "plt.show()"
   ]
  },
  {
   "cell_type": "code",
   "execution_count": 124,
   "metadata": {},
   "outputs": [
    {
     "data": {
      "image/png": "[encoded data removed]",
      "text/plain": [
       "<Figure size 1080x360 with 2 Axes>"
      ]
     },
     "metadata": {
      "needs_background": "light"
     },
     "output_type": "display_data"
    }
   ],
   "source": [
    "f, axs = plt.subplots(1,2,figsize = (15,5))\n",
    "sns.countplot(x=combinedDf['D_Tipologia_Attivita'],order=combinedDf['D_Tipologia_Bisogni'].value_counts().index,hue=combinedDf['cluster_predicted'],ax=axs[0])\n",
    "sns.countplot(x=combinedDf['age_bin'],order=combinedDf['age_bin'].value_counts().index,hue=combinedDf['cluster_predicted'],ax=axs[1])\n",
    "\n",
    "plt.tight_layout()\n",
    "plt.show()"
   ]
  },
  {
   "cell_type": "code",
   "execution_count": null,
   "metadata": {},
   "outputs": [],
   "source": []
  }
 ],
 "metadata": {
  "kernelspec": {
   "display_name": "Python 3",
   "language": "python",
   "name": "python3"
  },
  "language_info": {
   "codemirror_mode": {
    "name": "ipython",
    "version": 3
   },
   "file_extension": ".py",
   "mimetype": "text/x-python",
   "name": "python",
   "nbconvert_exporter": "python",
   "pygments_lexer": "ipython3",
   "version": "3.7.7"
  }
 },
 "nbformat": 4,
 "nbformat_minor": 4
}
